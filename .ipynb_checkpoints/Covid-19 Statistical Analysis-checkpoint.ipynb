{
 "cells": [
  {
   "cell_type": "code",
   "execution_count": 9,
   "metadata": {},
   "outputs": [],
   "source": [
    "from matplotlib import pyplot as plt\n",
    "import numpy as np\n",
    "import requests\n",
    "import re"
   ]
  },
  {
   "cell_type": "code",
   "execution_count": 10,
   "metadata": {},
   "outputs": [],
   "source": [
    "# Firstly,I made a spider to catch numbers of articles corresponding to terms that I need. \n",
    "# from website get the all numbers of relative articles\n",
    "# https://pubmed.ncbi.nlm.nih.gov/?term=image&filter=years.2015-2021\n",
    "\n",
    "def get_data(keyword, year_begin, year_end):\n",
    "    \"\"\"\n",
    "    according to the keywords and years to find articles\n",
    "    :param keyword: term of articles\n",
    "    :param year_begin: the begin year for search\n",
    "    :param year_end: the end year for search \n",
    "    :return: the total numbers of articles \n",
    "    \"\"\"\n",
    "    try:\n",
    "        year = \"years.\"+str(year_begin)+\"-\"+str(year_end)\n",
    "        url = \"https://pubmed.ncbi.nlm.nih.gov/\" + \"?term=\" + keyword + \"&filter=\" + year\n",
    "        html = requests.get(url).text\n",
    "        data_str = '<span class=\"value\">(.*?)</span>'\n",
    "        data = re.compile(data_str, re.S).findall(html)[0].replace(',', '')\n",
    "        return int(data)\n",
    "    except Exception:\n",
    "        return 0"
   ]
  },
  {
   "cell_type": "code",
   "execution_count": 11,
   "metadata": {},
   "outputs": [
    {
     "data": {
      "image/png": "[encoded data removed]",
      "text/plain": [
       "<Figure size 504x360 with 1 Axes>"
      ]
     },
     "metadata": {
      "needs_background": "light"
     },
     "output_type": "display_data"
    }
   ],
   "source": [
    "#Use the matplotlib package to plot the area chart\n",
    "\n",
    "terms = [\"Influenza\", \"Obesity\", \"Cancer\", \"Covid-19\"] #all terms\n",
    "years = [2016+i for i in range(5)]\n",
    "ys = []\n",
    "#get all data for all terms\n",
    "for term in terms:\n",
    "    yi=[]\n",
    "    for year in years:\n",
    "        yi.append(get_data(term, year, year))\n",
    "    ys.append(yi)\n",
    "#plot the figure\n",
    "fig, ax = plt.subplots(figsize=(7, 5))\n",
    "ax.stackplot(years, ys[0], ys[1], ys[2], ys[3])\n",
    "plt.legend(terms)\n",
    "plt.show()"
   ]
  },
  {
   "cell_type": "code",
   "execution_count": 12,
   "metadata": {},
   "outputs": [],
   "source": [
    "#The frequencies of Influenza and obesity are both under 50,000, and increase very flatly from 2016 to 2020.\n",
    "#The feequencies of cancer covers most area from 2016 to 2020.\n",
    "#The freqyencies of Covid_19 increases rapidly from 2019 to 2020."
   ]
  },
  {
   "cell_type": "code",
   "execution_count": 24,
   "metadata": {},
   "outputs": [
    {
     "data": {
      "image/png": "[encoded data removed]",
      "text/plain": [
       "<Figure size 504x360 with 1 Axes>"
      ]
     },
     "metadata": {
      "needs_background": "light"
     },
     "output_type": "display_data"
    }
   ],
   "source": [
    "import matplotlib.lines as mlines\n",
    "\n",
    "terms = [\"Influenza\", \"Covid-19\", \"Depression\", \"Mental health\", \"Physical activity\", \"Wearable\"]\n",
    "years = [2019, 2020]\n",
    "ys = []\n",
    "for term in terms:\n",
    "    yi=[]\n",
    "    for year in years:\n",
    "        yi.append(get_data(term, year, year)) #get numbers of terms\n",
    "    ys.append(yi)\n",
    "# ys = [[2,3],[3,4],[4,5],[4,5],[5,6],[5,6]]\n",
    "ys = np.array(ys)\n",
    "fig, ax = plt.subplots(figsize=(7, 5))\n",
    "#plot scatters of points\n",
    "ax.scatter(y=terms, x=ys[:,0], s=50, color='green', alpha=0.7)\n",
    "ax.scatter(y=terms, x=ys[:,1], s=50, color='blue', alpha=0.7)\n",
    "plt.legend([\"2019\",\"2020\"])\n",
    "#plot lines among points\n",
    "for i, p1, p2 in zip(terms, ys[:,0], ys[:,1]):\n",
    "    ax = plt.gca()\n",
    "    l = mlines.Line2D([p1, p2], [i, i], color='black')\n",
    "    ax.add_line(l)\n",
    "plt.show()"
   ]
  },
  {
   "cell_type": "code",
   "execution_count": 22,
   "metadata": {},
   "outputs": [],
   "source": [
    "#The keyword Covid-19 appears frequently in 2019 and 2020.\n",
    "#The frequencies of Inluenza and Wearable are under 20,000 from 2019 to 2020."
   ]
  },
  {
   "cell_type": "code",
   "execution_count": 20,
   "metadata": {},
   "outputs": [
    {
     "data": {
      "text/plain": [
       "'confirmed cases.html'"
      ]
     },
     "execution_count": 20,
     "metadata": {},
     "output_type": "execute_result"
    }
   ],
   "source": [
    "#download the data \n",
    "#search all country’s lon and lat in the .csv file and MA’s lon and lat. \n",
    "#import the package named plotly and get a access token from website ‘https://account.mapbox.com/’. \n",
    "#use the API in the plotly to form the target map in a html.\n",
    "\n",
    "import plotly as py\n",
    "import pandas as pd\n",
    "import plotly.express as px\n",
    "import plotly.graph_objects as go\n",
    "pyplt = py.offline.plot\n",
    "#get the data from the self-made .csv by pdf\n",
    "country=pd.read_csv('3data.csv')\n",
    "country.head()\n",
    "##plot the map by the data from csv\n",
    "fig=px.scatter_mapbox(country,   lon='lon',\n",
    "                                 lat='lat',\n",
    "                                 size='numbers',\n",
    "                                 color='numbers',\n",
    "                                 hover_name='country',\n",
    "                                 hover_data=['country'],\n",
    "                                 size_max=30,\n",
    "                                 color_continuous_scale=px.colors.cyclical.HSV\n",
    "                                 )\n",
    "\n",
    "token='pk.eyJ1Ijoic3l2aW5jZSIsImEiOiJjazZrNTcwY3kwMHBrM2txaGJqZWEzNWExIn0.tLQHY_OoiR2NMxnYHXUBAA'\n",
    "fig.update_layout(mapbox={'accesstoken':token,'center':{'lon':-71.8083,'lat':42.2596}},\n",
    "                 title={'text':'confirmed cases'},)\n",
    "#get the map of html\n",
    "pyplt(fig, filename='confirmed cases.html')"
   ]
  },
  {
   "cell_type": "code",
   "execution_count": 16,
   "metadata": {},
   "outputs": [],
   "source": [
    "#Middlesex has the most infection cases\n"
   ]
  }
 ],
 "metadata": {
  "kernelspec": {
   "display_name": "Python 3",
   "language": "python",
   "name": "python3"
  },
  "language_info": {
   "codemirror_mode": {
    "name": "ipython",
    "version": 3
   },
   "file_extension": ".py",
   "mimetype": "text/x-python",
   "name": "python",
   "nbconvert_exporter": "python",
   "pygments_lexer": "ipython3",
   "version": "3.8.6"
  },
  "toc": {
   "base_numbering": 1,
   "nav_menu": {},
   "number_sections": true,
   "sideBar": true,
   "skip_h1_title": false,
   "title_cell": "Table of Contents",
   "title_sidebar": "Contents",
   "toc_cell": false,
   "toc_position": {},
   "toc_section_display": true,
   "toc_window_display": false
  }
 },
 "nbformat": 4,
 "nbformat_minor": 1
}
